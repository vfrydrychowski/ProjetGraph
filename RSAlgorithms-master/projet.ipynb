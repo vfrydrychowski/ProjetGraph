{
 "cells": [
  {
   "cell_type": "code",
   "execution_count": 3,
   "metadata": {},
   "outputs": [
    {
     "ename": "ModuleNotFoundError",
     "evalue": "No module named 'configx.configx'",
     "output_type": "error",
     "traceback": [
      "\u001b[1;31m---------------------------------------------------------------------------\u001b[0m",
      "\u001b[1;31mModuleNotFoundError\u001b[0m                       Traceback (most recent call last)",
      "Cell \u001b[1;32mIn[3], line 1\u001b[0m\n\u001b[1;32m----> 1\u001b[0m \u001b[39mfrom\u001b[39;00m \u001b[39mutility\u001b[39;00m\u001b[39m.\u001b[39;00m\u001b[39mcross_validation\u001b[39;00m \u001b[39mimport\u001b[39;00m split_5_folds\n\u001b[0;32m      2\u001b[0m \u001b[39m#from configx.configx_Epinions_80 import ConfigX as Ep80\u001b[39;00m\n",
      "File \u001b[1;32md:\\Document\\Documents\\Info\\M2\\fouille\\Projet\\ProjetGraph\\RSAlgorithms-master\\utility\\cross_validation.py:9\u001b[0m\n\u001b[0;32m      7\u001b[0m \u001b[39mimport\u001b[39;00m \u001b[39mpandas\u001b[39;00m \u001b[39mas\u001b[39;00m \u001b[39mpd\u001b[39;00m\n\u001b[0;32m      8\u001b[0m \u001b[39mfrom\u001b[39;00m \u001b[39mscipy\u001b[39;00m\u001b[39m.\u001b[39;00m\u001b[39msparse\u001b[39;00m \u001b[39mimport\u001b[39;00m coo_matrix\n\u001b[1;32m----> 9\u001b[0m \u001b[39mfrom\u001b[39;00m \u001b[39mconfigx\u001b[39;00m\u001b[39m.\u001b[39;00m\u001b[39mconfigx\u001b[39;00m \u001b[39mimport\u001b[39;00m ConfigX\n\u001b[0;32m     11\u001b[0m \u001b[39m\"\"\"\"\"\"\u001b[39;00m\u001b[39m\"\"\"\u001b[39m\u001b[39m\"\"\"\u001b[39m\u001b[39m\"\"\"\u001b[39m\u001b[39m\"\"\"\u001b[39m\u001b[39m\"\"\"\u001b[39m\u001b[39m\"\"\"\u001b[39m\u001b[39m\"\"\"\u001b[39m\u001b[39m\"\"\"\u001b[39m\u001b[39m\"\"\"\u001b[39m\u001b[39m\"\"\"\u001b[39m\u001b[39m\"\"\"\u001b[39m\u001b[39m\"\"\"\u001b[39m\u001b[39m\"\"\"\u001b[39m\u001b[39m\"\"\"\u001b[39m\u001b[39m\"\"\"\u001b[39m\u001b[39m\"\"\"\u001b[39m\u001b[39m\"\"\"\u001b[39m\u001b[39m\"\"\"\u001b[39m\u001b[39m\"\"\"\u001b[39m\u001b[39m\"\"\"\u001b[39m\u001b[39m\"\"\"\u001b[39m\u001b[39m\"\"\"\u001b[39m\u001b[39m\"\"\"\u001b[39m\u001b[39m\"\"\"\u001b[39m\u001b[39m\"\"\"\u001b[39m\n\u001b[0;32m     12\u001b[0m \u001b[39mSplit ratings into five folds\u001b[39m\n\u001b[0;32m     13\u001b[0m \u001b[39m\"\"\"\u001b[39m\u001b[39m\"\"\"\u001b[39m\u001b[39m\"\"\"\u001b[39m\u001b[39m\"\"\"\u001b[39m\u001b[39m\"\"\"\u001b[39m\u001b[39m\"\"\"\u001b[39m\u001b[39m\"\"\"\u001b[39m\u001b[39m\"\"\"\u001b[39m\u001b[39m\"\"\"\u001b[39m\u001b[39m\"\"\"\u001b[39m\u001b[39m\"\"\"\u001b[39m\u001b[39m\"\"\"\u001b[39m\u001b[39m\"\"\"\u001b[39m\u001b[39m\"\"\"\u001b[39m\u001b[39m\"\"\"\u001b[39m\u001b[39m\"\"\"\u001b[39m\u001b[39m\"\"\"\u001b[39m\u001b[39m\"\"\"\u001b[39m\u001b[39m\"\"\"\u001b[39m\u001b[39m\"\"\"\u001b[39m\u001b[39m\"\"\"\u001b[39m\u001b[39m\"\"\"\u001b[39m\u001b[39m\"\"\"\u001b[39m\u001b[39m\"\"\"\u001b[39m\u001b[39m\"\"\"\u001b[39m\u001b[39m\"\"\"\u001b[39m\u001b[39m\"\"\"\u001b[39m\n\u001b[0;32m     16\u001b[0m \u001b[39mdef\u001b[39;00m \u001b[39msplit_5_folds\u001b[39m(configx):\n",
      "\u001b[1;31mModuleNotFoundError\u001b[0m: No module named 'configx.configx'"
     ]
    }
   ],
   "source": [
    "from utility.cross_validation import split_5_folds\n",
    "from configx.configx_Epinions_80 import ConfigX as Ep80"
   ]
  },
  {
   "cell_type": "code",
   "execution_count": null,
   "metadata": {},
   "outputs": [],
   "source": []
  }
 ],
 "metadata": {
  "kernelspec": {
   "display_name": "Python 3.11.1 ('.venv': venv)",
   "language": "python",
   "name": "python3"
  },
  "language_info": {
   "codemirror_mode": {
    "name": "ipython",
    "version": 3
   },
   "file_extension": ".py",
   "mimetype": "text/x-python",
   "name": "python",
   "nbconvert_exporter": "python",
   "pygments_lexer": "ipython3",
   "version": "3.11.1"
  },
  "orig_nbformat": 4,
  "vscode": {
   "interpreter": {
    "hash": "069a3e9b2a26664b5975b84aea1b6f4eb4308bceb55de952b4a35b2c5dd79792"
   }
  }
 },
 "nbformat": 4,
 "nbformat_minor": 2
}
