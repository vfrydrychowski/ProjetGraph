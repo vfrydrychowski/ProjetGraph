{
 "cells": [
  {
   "cell_type": "code",
   "execution_count": 1,
   "metadata": {},
   "outputs": [],
   "source": [
    "from utility.cross_validation import split_5_folds\n",
    "from configx.configx_Epinions_80 import ConfigX as Ep80"
   ]
  },
  {
   "cell_type": "code",
   "execution_count": 2,
   "metadata": {},
   "outputs": [
    {
     "name": "stdout",
     "output_type": "stream",
     "text": [
      "data/cv/epinions folder has been established.\n",
      "ep -fold0 data generated finished!\n",
      "ep -fold1 data generated finished!\n",
      "ep -fold2 data generated finished!\n",
      "ep -fold3 data generated finished!\n",
      "ep -fold4 data generated finished!\n",
      "All Data Generated Done!\n"
     ]
    }
   ],
   "source": [
    "ep80 = Ep80()\n",
    "split_5_folds(ep80)"
   ]
  },
  {
   "cell_type": "code",
   "execution_count": null,
   "metadata": {},
   "outputs": [],
   "source": []
  }
 ],
 "metadata": {
  "kernelspec": {
   "display_name": "Python 3.11.1 ('.venv': venv)",
   "language": "python",
   "name": "python3"
  },
  "language_info": {
   "codemirror_mode": {
    "name": "ipython",
    "version": 3
   },
   "file_extension": ".py",
   "mimetype": "text/x-python",
   "name": "python",
   "nbconvert_exporter": "python",
   "pygments_lexer": "ipython3",
   "version": "3.11.1"
  },
  "orig_nbformat": 4,
  "vscode": {
   "interpreter": {
    "hash": "069a3e9b2a26664b5975b84aea1b6f4eb4308bceb55de952b4a35b2c5dd79792"
   }
  }
 },
 "nbformat": 4,
 "nbformat_minor": 2
}
