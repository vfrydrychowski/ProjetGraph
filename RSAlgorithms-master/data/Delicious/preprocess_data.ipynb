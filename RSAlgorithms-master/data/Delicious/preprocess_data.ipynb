{
 "cells": [
  {
   "cell_type": "code",
   "execution_count": 12,
   "metadata": {},
   "outputs": [],
   "source": [
    "# transforme un .dat en .csv\n",
    "import csv\n",
    "with open('./user_contacts.dat', 'r') as dat_file:\n",
    "    with open('./user_contacts.csv', 'w', newline='') as csv_file:\n",
    "        csv_writer = csv.writer(csv_file)\n",
    "        for row in dat_file:\n",
    "            row = [value.strip() for value in row.split('\\t')]\n",
    "            csv_writer.writerow(row)\n",
    "# note: changer manuellement les tab des noms de columns par des ,"
   ]
  },
  {
   "cell_type": "code",
   "execution_count": 19,
   "metadata": {},
   "outputs": [],
   "source": [
    "import pandas as pd\n",
    "df = pd.read_csv(r'./user_contacts.csv')\n",
    "#df.head(10)\n",
    "df.drop(df.iloc[:, 2:len(df.columns)], inplace=True, axis=1)\n",
    "#df.head(10)\n",
    "df['Trust'] = 1\n",
    "#df.head(10)\n",
    "df.to_csv('trust_data.csv', index=None)"
   ]
  }
 ],
 "metadata": {
  "kernelspec": {
   "display_name": "Python 3",
   "language": "python",
   "name": "python3"
  },
  "language_info": {
   "codemirror_mode": {
    "name": "ipython",
    "version": 3
   },
   "file_extension": ".py",
   "mimetype": "text/x-python",
   "name": "python",
   "nbconvert_exporter": "python",
   "pygments_lexer": "ipython3",
   "version": "3.10.4 (tags/v3.10.4:9d38120, Mar 23 2022, 23:13:41) [MSC v.1929 64 bit (AMD64)]"
  },
  "orig_nbformat": 4,
  "vscode": {
   "interpreter": {
    "hash": "9f0d103aebe82dfbb47ec724a2ca4fd3dcb0c9038207abb072b7913218171667"
   }
  }
 },
 "nbformat": 4,
 "nbformat_minor": 2
}
